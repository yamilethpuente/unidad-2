{
  "nbformat": 4,
  "nbformat_minor": 0,
  "metadata": {
    "colab": {
      "provenance": [],
      "authorship_tag": "ABX9TyMQbwZGjMPhd+ONfNZQGF0O",
      "include_colab_link": true
    },
    "kernelspec": {
      "name": "python3",
      "display_name": "Python 3"
    },
    "language_info": {
      "name": "python"
    }
  },
  "cells": [
    {
      "cell_type": "markdown",
      "metadata": {
        "id": "view-in-github",
        "colab_type": "text"
      },
      "source": [
        "<a href=\"https://colab.research.google.com/github/yamilethpuente/unidad-2/blob/main/practica2.ipynb\" target=\"_parent\"><img src=\"https://colab.research.google.com/assets/colab-badge.svg\" alt=\"Open In Colab\"/></a>"
      ]
    },
    {
      "cell_type": "markdown",
      "source": [
        "yamileth puente uribe - practica 2 de pandas\n",
        "7 de octubre de 2025\n",
        "-------------------------------\n",
        "DataFrames de pandas\n",
        "-------------------------------\n",
        "un DataFrame es una estructura de datos bidimencional,\n",
        "como una matriz o tabla con filas y columnas\n",
        "--------------------------------------------\n",
        "ejemplo: crea un DataFrame basico:\n",
        "--------------------------------------------\n"
      ],
      "metadata": {
        "id": "ZfY5mYCs2TMX"
      }
    },
    {
      "cell_type": "code",
      "source": [
        "import pandas as pd\n",
        "datos={\n",
        "    \"calorias\":[420,380,390],\n",
        "    \"duracion\":[50,40,45]\n",
        "}\n",
        "#cargar datos dentro del DataFrames\n",
        "dataframe=pd.DataFrame(datos)\n",
        "print(dataframe)"
      ],
      "metadata": {
        "colab": {
          "base_uri": "https://localhost:8080/"
        },
        "id": "aB642xfr3Jun",
        "outputId": "1703b80b-366c-4450-f349-d9cc84a0bdd8"
      },
      "execution_count": 2,
      "outputs": [
        {
          "output_type": "stream",
          "name": "stdout",
          "text": [
            "   calorias  duracion\n",
            "0       420        50\n",
            "1       380        40\n",
            "2       390        45\n"
          ]
        }
      ]
    },
    {
      "cell_type": "markdown",
      "source": [
        "localizar filas\n",
        "--------------\n",
        "como puedes ver en el resultado anterior, el dataframe\n",
        "es como una tabla con filas y columnas.\n",
        "pandas usa el atributo \"loc\" para devolver una o mas filas\n",
        "------------------------------\n",
        "ejemplo:devuelve la fila cero"
      ],
      "metadata": {
        "id": "IboUj8iJ7FH3"
      }
    },
    {
      "cell_type": "code",
      "source": [
        "import pandas as pd\n",
        "datos={\n",
        "    \"calorias\":[420,380,390],\n",
        "    \"duracion\":[50,40,45]\n",
        "}\n",
        "#cargar datos dentro del DataFrames\n",
        "dataframe=pd.DataFrame(datos)\n",
        "print(dataframe.loc[0])"
      ],
      "metadata": {
        "colab": {
          "base_uri": "https://localhost:8080/"
        },
        "id": "K9hrRdMd7vrn",
        "outputId": "de685f1b-a8ff-4f71-da0a-33e6cc648fd3"
      },
      "execution_count": 3,
      "outputs": [
        {
          "output_type": "stream",
          "name": "stdout",
          "text": [
            "calorias    420\n",
            "duracion     50\n",
            "Name: 0, dtype: int64\n"
          ]
        }
      ]
    },
    {
      "cell_type": "markdown",
      "source": [
        "ejemplo:devuelve las filas 0 y 1"
      ],
      "metadata": {
        "id": "EwNeBtlJ9kdQ"
      }
    },
    {
      "cell_type": "code",
      "source": [
        "import pandas as pd\n",
        "datos={\n",
        "    \"calorias\":[420,380,390],\n",
        "    \"duracion\":[50,40,45]\n",
        "}\n",
        "#cargar datos dentro del DataFrames\n",
        "dataframe=pd.DataFrame(datos)\n",
        "print(dataframe.loc[[0,1]])"
      ],
      "metadata": {
        "colab": {
          "base_uri": "https://localhost:8080/"
        },
        "id": "F8e5pHYA90UW",
        "outputId": "8bf56130-c088-4659-e1f1-824a6d739358"
      },
      "execution_count": 4,
      "outputs": [
        {
          "output_type": "stream",
          "name": "stdout",
          "text": [
            "   calorias  duracion\n",
            "0       420        50\n",
            "1       380        40\n"
          ]
        }
      ]
    },
    {
      "cell_type": "markdown",
      "source": [
        "indices nombrados\n",
        "----------------------\n",
        "con el argumento \"index\" puedes nobrar tus propios indices o etiqueta\n",
        "ejemplo:ahegra una lista de nombres para darle una etiqueta a cada fila"
      ],
      "metadata": {
        "id": "fKY3Rgey-jHf"
      }
    },
    {
      "cell_type": "code",
      "source": [
        "import pandas as pd\n",
        "datos={\n",
        "    \"calorias\":[420,380,390],\n",
        "    \"duracion\":[50,40,45]\n",
        "}\n",
        "#cargar datos dentro del DataFrames\n",
        "dataframe=pd.DataFrame(datos, index=[\"dia-1\",\"dia-2\",\"dia-3\"])\n",
        "print(dataframe)"
      ],
      "metadata": {
        "colab": {
          "base_uri": "https://localhost:8080/"
        },
        "id": "zOh5_oNw-8fK",
        "outputId": "60c7fe0a-f6e9-4ca7-bf3d-772cf57513c9"
      },
      "execution_count": 6,
      "outputs": [
        {
          "output_type": "stream",
          "name": "stdout",
          "text": [
            "       calorias  duracion\n",
            "dia-1       420        50\n",
            "dia-2       380        40\n",
            "dia-3       390        45\n"
          ]
        }
      ]
    },
    {
      "cell_type": "markdown",
      "source": [
        "localizar indices por el nombre o etiqueta\n",
        "utilice el atributo \"loc\" para devolver la(s) fila(s)\n",
        "especificas\n",
        "------------------------------------\n",
        "ejemplo:devuelve la fila dia-2\n",
        "------------------------------------"
      ],
      "metadata": {
        "id": "fyKFw3-P_rU4"
      }
    },
    {
      "cell_type": "code",
      "source": [
        "import pandas as pd\n",
        "datos={\n",
        "    \"calorias\":[420,380,390],\n",
        "    \"duracion\":[50,40,45]\n",
        "}\n",
        "#cargar datos dentro del DataFrames\n",
        "dataframe=pd.DataFrame(datos, index=[\"dia-1\",\"dia-2\",\"dia-3\"])\n",
        "print(dataframe.loc[\"dia-2\"])"
      ],
      "metadata": {
        "colab": {
          "base_uri": "https://localhost:8080/"
        },
        "id": "GAl9cYXIAG33",
        "outputId": "806ac79f-0062-4b8f-b9e9-29d2653d73df"
      },
      "execution_count": 7,
      "outputs": [
        {
          "output_type": "stream",
          "name": "stdout",
          "text": [
            "calorias    380\n",
            "duracion     40\n",
            "Name: dia-2, dtype: int64\n"
          ]
        }
      ]
    }
  ]
}